{
  "nbformat": 4,
  "nbformat_minor": 0,
  "metadata": {
    "colab": {
      "provenance": []
    },
    "kernelspec": {
      "name": "python3",
      "display_name": "Python 3"
    },
    "language_info": {
      "name": "python"
    }
  },
  "cells": [
    {
      "cell_type": "code",
      "execution_count": null,
      "metadata": {
        "id": "RE-x_boh2eOv"
      },
      "outputs": [],
      "source": []
    },
    {
      "cell_type": "markdown",
      "source": [
        "Q1) What are data structures, and why are they important?\n",
        "Data structures are organized ways to store, manage, and retrieve data efficiently. They are critical in computer science because they enable developers to perform operations on data efficiently, which is essential for developing fast and scalable applications.\n",
        "---\n",
        "Q2) Explain the difference between mutable and immutable data types with examples?\n",
        "Can be changed after their creation. Examples include lists, dictionaries, and sets in Python. Cannot be changed once created. Examples include strings, tuples, and integers in Python.\n",
        "---\n",
        "Q3) What are the main differences between lists and tuples in Python?\n",
        "Lists mutable and tuples immutable.\n",
        "---\n",
        "Q4) Describe how dictionaries store data\n",
        "Dictionaries store data in key-value pairs. The keys must be unique and immutable, while the values can be of any type. Internally, dictionaries use a hash table to map keys to values, allowing for efficient data retrieval.\n",
        "---\n",
        "Q5) Why might you use a set instead of a list in Python?\n",
        "Sets are collections of unique elements, which means they automatically handle duplicates. They provide faster membership tests compared to lists due to their underlying hash table implementation.\n",
        "---\n",
        "Q6) Use a set when you need to store unique items and perform fast membership checks.\n",
        "Strings: Immutable sequences of characters.\n",
        "Syntax: \"hello\"\n",
        "Lists:Mutable sequences of elements.\n",
        "Syntax: [1, 2, 3]\n",
        "A string cannot be modified in place, while a list can be.\n",
        "---\n",
        "Q7) What is a string in Python, and how is it different from a list?\n",
        "Strings: Immutable sequences of characters.\n",
        "Syntax: \"hello\"\n",
        "Lists:Mutable sequences of elements.\n",
        "Syntax: [1, 2, 3]\n",
        "A string cannot be modified in place, while a list can be.\n",
        "How do tuples ensure data integrity in Python4\n",
        "What is a hash table, and how does it relate to dictionaries in Python4\n",
        "---\n",
        "Q8) Can lists contain different data types in Python\n",
        "yes\n",
        "---\n",
        "Q9) Explain why strings are immutable in Python\n",
        "they cannot be changed with indexing\n",
        "---\n",
        "Q10) What advantages do dictionaries offer over lists for certain tasks?\n",
        "dictionaries provide better accessibility becuse data is stored in key value pair.\n",
        "---\n",
        "Q11) Describe a scenario where using a tuple would be preferable over a list\n",
        "Using a tuple is preferable when you need a collection of items that should not change, such as the coordinates of a point in a 2D space (e.g., (x, y))\n",
        "---\n",
        "Q12) How do sets handle duplicate values in Python\n",
        "Sets automatically discard duplicate values, ensuring all elements are unique.---\n",
        "Q13)How does the “in” keyword work differently for lists and dictionaries\n",
        "For lists, the “in” keyword checks for the presence of a value; for dictionaries, it checks for the presence of a key.\n",
        "---\n",
        "Q14)Can you modify the elements of a tuple? Explain why or why not\n",
        "no, tuple is immutable\n",
        "---\n",
        "Q15)What is a nested dictionary, and give an example of its use case\n",
        "A nested dictionary is a dictionary within another dictionary.\n",
        "directory = {\n",
        "    \"folder1\": {\"file1.txt\": \"content1\", \"file2.txt\": \"content2\"},\n",
        "    \"folder2\": {\"file3.txt\": \"content3\"}\n",
        "}\n",
        "---\n",
        "Q16)Describe the time complexity of accessing elements in a dictionary\n",
        "The average time complexity of accessing elements in a dictionary is O(1) due to the underlying hash table implementation.\n",
        "\n",
        "Q17)In what situations are lists preferred over dictionaries\n",
        "Lists are preferred over dictionaries when you need to maintain the order of elements or access elements by their index.\n",
        "\n",
        "Q18)Why are dictionaries considered unordered, and how does that affect data retrieval\n",
        "Dictionaries are considered unordered because they do not maintain the order of items based on insertion; this affects data retrieval by making it impossible to rely on the order of key-value pairs.\n",
        "\n",
        "Q19)Explain the difference between a list and a dictionary in terms of data retrieval\n",
        "In a list, data is retrieved by index, while in a dictionary, data is retrieved by key, allowing for faster lookups (O(1) on average) compared to lists (O(n) for searching)."
      ],
      "metadata": {
        "id": "xqfKcSoO2sqF"
      }
    },
    {
      "cell_type": "code",
      "source": [
        "# Q1) Write a code to create a string with your name and print it.\n",
        "name = \"Your Name\"\n",
        "print(name)"
      ],
      "metadata": {
        "colab": {
          "base_uri": "https://localhost:8080/"
        },
        "id": "p3KohN9X8r6k",
        "outputId": "62ef02f7-b618-4884-c384-09784e891d42"
      },
      "execution_count": 1,
      "outputs": [
        {
          "output_type": "stream",
          "name": "stdout",
          "text": [
            "Your Name\n"
          ]
        }
      ]
    },
    {
      "cell_type": "code",
      "source": [
        "# Q2) Write a code to find the length of the string \"Hello World\".\n",
        "text = \"Hello World\"\n",
        "print(len(text))"
      ],
      "metadata": {
        "colab": {
          "base_uri": "https://localhost:8080/"
        },
        "id": "4HRMgYuz8r8i",
        "outputId": "d7ef9153-34a6-4f37-aa97-ce591497ad5d"
      },
      "execution_count": 2,
      "outputs": [
        {
          "output_type": "stream",
          "name": "stdout",
          "text": [
            "11\n"
          ]
        }
      ]
    },
    {
      "cell_type": "code",
      "source": [
        "# Q3) Write a code to slice the first 3 characters from the string \"Python Programming\".\n",
        "text = \"Python Programming\"\n",
        "print(text[:3])"
      ],
      "metadata": {
        "colab": {
          "base_uri": "https://localhost:8080/"
        },
        "id": "Ma3jHyIn8r-p",
        "outputId": "db1da90e-7776-40dd-f948-2e0b4725fa65"
      },
      "execution_count": 3,
      "outputs": [
        {
          "output_type": "stream",
          "name": "stdout",
          "text": [
            "Pyt\n"
          ]
        }
      ]
    },
    {
      "cell_type": "code",
      "source": [
        "# Q4) Write a code to convert the string \"hello\" to uppercase.\n",
        "text = \"hello\"\n",
        "print(text.upper())"
      ],
      "metadata": {
        "colab": {
          "base_uri": "https://localhost:8080/"
        },
        "id": "QUtsw6fd8sA9",
        "outputId": "93efcbcc-5306-425c-ccff-c094564368fd"
      },
      "execution_count": 4,
      "outputs": [
        {
          "output_type": "stream",
          "name": "stdout",
          "text": [
            "HELLO\n"
          ]
        }
      ]
    },
    {
      "cell_type": "code",
      "source": [
        "# Q5) Write a code to replace the word \"apple\" with \"orange\" in the string \"I like apple\".\n",
        "text = \"I like apple\"\n",
        "print(text.replace(\"apple\", \"orange\"))"
      ],
      "metadata": {
        "colab": {
          "base_uri": "https://localhost:8080/"
        },
        "id": "2W_NvHok8sDY",
        "outputId": "081337d8-6d00-45ee-d9ab-218763541fb4"
      },
      "execution_count": 5,
      "outputs": [
        {
          "output_type": "stream",
          "name": "stdout",
          "text": [
            "I like orange\n"
          ]
        }
      ]
    },
    {
      "cell_type": "code",
      "source": [
        "# Q6) Write a code to create a list with numbers 1 to 5 and print it.\n",
        "numbers = [1, 2, 3, 4, 5]\n",
        "print(numbers)"
      ],
      "metadata": {
        "colab": {
          "base_uri": "https://localhost:8080/"
        },
        "id": "_1_piEf88sFk",
        "outputId": "841c95c9-2089-463e-f093-bc3a6a73c695"
      },
      "execution_count": 1,
      "outputs": [
        {
          "output_type": "stream",
          "name": "stdout",
          "text": [
            "[1, 2, 3, 4, 5]\n"
          ]
        }
      ]
    },
    {
      "cell_type": "code",
      "source": [
        "# Q7) Write a code to append the number 10 to the list [1, 2, 3, 4].\n",
        "numbers = [1, 2, 3, 4]\n",
        "numbers.append(10)\n",
        "print(numbers)"
      ],
      "metadata": {
        "colab": {
          "base_uri": "https://localhost:8080/"
        },
        "id": "8B75EylB8sIG",
        "outputId": "2b01bd71-0080-4eee-c602-c641a64d34d4"
      },
      "execution_count": 2,
      "outputs": [
        {
          "output_type": "stream",
          "name": "stdout",
          "text": [
            "[1, 2, 3, 4, 10]\n"
          ]
        }
      ]
    },
    {
      "cell_type": "code",
      "source": [
        "# Q8) Write a code to remove the number 3 from the list [1, 2, 3, 4, 5].\n",
        "numbers = [1, 2, 3, 4, 5]\n",
        "numbers.remove(3)\n",
        "print(numbers)"
      ],
      "metadata": {
        "colab": {
          "base_uri": "https://localhost:8080/"
        },
        "id": "NaaMfSWD8sKc",
        "outputId": "e64aeb5c-fad7-4eb4-93b7-45051f6cbc37"
      },
      "execution_count": 3,
      "outputs": [
        {
          "output_type": "stream",
          "name": "stdout",
          "text": [
            "[1, 2, 4, 5]\n"
          ]
        }
      ]
    },
    {
      "cell_type": "code",
      "source": [
        "# Q9) Write a code to access the second element in the list ['a', 'b', 'c', 'd'].\n",
        "letters = ['a', 'b', 'c', 'd']\n",
        "print(letters[1])"
      ],
      "metadata": {
        "colab": {
          "base_uri": "https://localhost:8080/"
        },
        "id": "q3693M6C8sMl",
        "outputId": "958a6fd1-5e4e-489b-9114-5d31271db3f9"
      },
      "execution_count": 4,
      "outputs": [
        {
          "output_type": "stream",
          "name": "stdout",
          "text": [
            "b\n"
          ]
        }
      ]
    },
    {
      "cell_type": "code",
      "source": [
        "# Q10) Write a code to reverse the list [10, 20, 30, 40, 50].\n",
        "numbers = [10, 20, 30, 40, 50]\n",
        "numbers.reverse()\n",
        "print(numbers)"
      ],
      "metadata": {
        "colab": {
          "base_uri": "https://localhost:8080/"
        },
        "id": "m_-MXvY58sOs",
        "outputId": "87bcb6a9-a5d8-46ea-dc17-28d44fe3cf1a"
      },
      "execution_count": 5,
      "outputs": [
        {
          "output_type": "stream",
          "name": "stdout",
          "text": [
            "[50, 40, 30, 20, 10]\n"
          ]
        }
      ]
    },
    {
      "cell_type": "code",
      "source": [
        "# Q11) Write a code to create a tuple with the elements 10, 20, 30 and print it.\n",
        "my_tuple = (10, 20, 30)\n",
        "print(my_tuple)"
      ],
      "metadata": {
        "colab": {
          "base_uri": "https://localhost:8080/"
        },
        "id": "LN8_EkJwUT-c",
        "outputId": "55d99d4b-2f13-43e4-ce23-00088aa3ff7a"
      },
      "execution_count": 6,
      "outputs": [
        {
          "output_type": "stream",
          "name": "stdout",
          "text": [
            "(10, 20, 30)\n"
          ]
        }
      ]
    },
    {
      "cell_type": "code",
      "source": [
        "# Q12) Write a code to access the first element of the tuple ('apple', 'banana', 'cherry').\n",
        "my_tuple = ('apple', 'banana', 'cherry')\n",
        "print(my_tuple[0])"
      ],
      "metadata": {
        "colab": {
          "base_uri": "https://localhost:8080/"
        },
        "id": "DF11_oUfUUBB",
        "outputId": "b6cd5028-0dfe-4ed6-b663-eb5c77aad72d"
      },
      "execution_count": 7,
      "outputs": [
        {
          "output_type": "stream",
          "name": "stdout",
          "text": [
            "apple\n"
          ]
        }
      ]
    },
    {
      "cell_type": "code",
      "source": [
        "# Q13) Write a code to count how many times the number 2 appears in the tuple (1, 2, 3, 2, 4, 2).\n",
        "my_tuple = (1, 2, 3, 2, 4, 2)\n",
        "print(my_tuple.count(2))"
      ],
      "metadata": {
        "colab": {
          "base_uri": "https://localhost:8080/"
        },
        "id": "vtL3Ypa5UUDj",
        "outputId": "76cd3baa-85ca-4a3b-b828-2468d4e7c4e7"
      },
      "execution_count": 8,
      "outputs": [
        {
          "output_type": "stream",
          "name": "stdout",
          "text": [
            "3\n"
          ]
        }
      ]
    },
    {
      "cell_type": "code",
      "source": [
        "# Q14) Write a code to find the index of the element \"cat\" in the tuple ('dog', 'cat', 'rabbit').\n",
        "my_tuple = ('dog', 'cat', 'rabbit')\n",
        "print(my_tuple.index('cat'))"
      ],
      "metadata": {
        "colab": {
          "base_uri": "https://localhost:8080/"
        },
        "id": "ilo4cW-1UUF2",
        "outputId": "b4957f9c-114b-407b-d517-dd0f79b995ad"
      },
      "execution_count": 9,
      "outputs": [
        {
          "output_type": "stream",
          "name": "stdout",
          "text": [
            "1\n"
          ]
        }
      ]
    },
    {
      "cell_type": "code",
      "source": [
        "# Q15) Write a code to check if the element \"banana\" is in the tuple ('apple', 'orange', 'banana').\n",
        "my_tuple = ('apple', 'orange', 'banana')\n",
        "print(\"banana\" in my_tuple)"
      ],
      "metadata": {
        "colab": {
          "base_uri": "https://localhost:8080/"
        },
        "id": "Fz0i8EVfUUIK",
        "outputId": "e4a0455c-7420-4ba3-f31d-6bc1e5e46148"
      },
      "execution_count": 10,
      "outputs": [
        {
          "output_type": "stream",
          "name": "stdout",
          "text": [
            "True\n"
          ]
        }
      ]
    },
    {
      "cell_type": "code",
      "source": [
        "# Q16) Write a code to create a set with the elements 1, 2, 3, 4, 5 and print it.\n",
        "my_set = {1, 2, 3, 4, 5}\n",
        "print(my_set)"
      ],
      "metadata": {
        "id": "C5gc7HeHUUKk"
      },
      "execution_count": null,
      "outputs": []
    },
    {
      "cell_type": "code",
      "source": [
        "# Q17) Write a code to add the element 6 to the set {1, 2, 3, 4}.\n",
        "my_set = {1, 2, 3, 4}\n",
        "my_set.add(6)\n",
        "print(my_set)"
      ],
      "metadata": {
        "id": "x_nhXhTaUUMq"
      },
      "execution_count": null,
      "outputs": []
    },
    {
      "cell_type": "code",
      "source": [
        "# Q18) Write a code to create a tuple with the elements 10, 20, 30 and print it.\n",
        "my_tuple = (10, 20, 30)\n",
        "print(my_tuple)"
      ],
      "metadata": {
        "colab": {
          "base_uri": "https://localhost:8080/"
        },
        "id": "hIBv3TlwUUQE",
        "outputId": "6994a8b1-79f8-4f31-9b1b-a61566b7736e"
      },
      "execution_count": 11,
      "outputs": [
        {
          "output_type": "stream",
          "name": "stdout",
          "text": [
            "(10, 20, 30)\n"
          ]
        }
      ]
    },
    {
      "cell_type": "code",
      "source": [
        "# Q19) Write a code to access the first element of the tuple ('apple', 'banana', 'cherry').\n",
        "my_tuple = ('apple', 'banana', 'cherry')\n",
        "print(my_tuple[0])"
      ],
      "metadata": {
        "colab": {
          "base_uri": "https://localhost:8080/"
        },
        "id": "EMOCuIg5V_OY",
        "outputId": "05554a66-450d-441c-d9e1-05322c3a3f7c"
      },
      "execution_count": 17,
      "outputs": [
        {
          "output_type": "stream",
          "name": "stdout",
          "text": [
            "apple\n"
          ]
        }
      ]
    },
    {
      "cell_type": "code",
      "source": [
        "# Q20) Write a code to count how many times the number 2 appears in the tuple (1, 2, 3, 2, 4, 2).\n",
        "my_tuple = (1, 2, 3, 2, 4, 2)\n",
        "print(my_tuple.count(2))"
      ],
      "metadata": {
        "colab": {
          "base_uri": "https://localhost:8080/"
        },
        "id": "ncC03bwGV_Rr",
        "outputId": "c323283a-5c9a-4433-9d7f-aa45e45e6c0b"
      },
      "execution_count": 16,
      "outputs": [
        {
          "output_type": "stream",
          "name": "stdout",
          "text": [
            "3\n"
          ]
        }
      ]
    },
    {
      "cell_type": "code",
      "source": [
        "# Q21) Write a code to find the index of the element \"cat\" in the tuple ('dog', 'cat', 'rabbit').\n",
        "my_tuple = ('dog', 'cat', 'rabbit')\n",
        "print(my_tuple.index('cat'))"
      ],
      "metadata": {
        "colab": {
          "base_uri": "https://localhost:8080/"
        },
        "id": "ZM-aAauwWJSZ",
        "outputId": "759063c1-60d3-459d-ed31-38011ad13a74"
      },
      "execution_count": 15,
      "outputs": [
        {
          "output_type": "stream",
          "name": "stdout",
          "text": [
            "1\n"
          ]
        }
      ]
    },
    {
      "cell_type": "code",
      "source": [
        "# Q22) Write a code to check if the element \"banana\" is in the tuple ('apple', 'orange', 'banana').\n",
        "my_tuple = ('apple', 'orange', 'banana')\n",
        "print(\"banana\" in my_tuple)"
      ],
      "metadata": {
        "colab": {
          "base_uri": "https://localhost:8080/"
        },
        "id": "-TkM8NzWWJUp",
        "outputId": "116ea426-5305-4065-b14c-35f8f2972067"
      },
      "execution_count": 14,
      "outputs": [
        {
          "output_type": "stream",
          "name": "stdout",
          "text": [
            "True\n"
          ]
        }
      ]
    },
    {
      "cell_type": "code",
      "source": [
        "# Q23) Write a code to create a set with the elements 1, 2, 3, 4, 5 and print it.\n",
        "my_set = {1, 2, 3, 4, 5}\n",
        "print(my_set)"
      ],
      "metadata": {
        "colab": {
          "base_uri": "https://localhost:8080/"
        },
        "id": "FdLLQ75mWJW7",
        "outputId": "b2492956-b09c-47ff-da67-87db1761c84a"
      },
      "execution_count": 13,
      "outputs": [
        {
          "output_type": "stream",
          "name": "stdout",
          "text": [
            "{1, 2, 3, 4, 5}\n"
          ]
        }
      ]
    },
    {
      "cell_type": "code",
      "source": [
        "# Q24) Write a code to add the element 6 to the set {1, 2, 3, 4}.\n",
        "my_set = {1, 2, 3, 4}\n",
        "my_set.add(6)\n",
        "print(my_set)"
      ],
      "metadata": {
        "colab": {
          "base_uri": "https://localhost:8080/"
        },
        "id": "CpSbPvBkWJZV",
        "outputId": "a516eba5-0d9a-4741-830f-392d2fcdb46e"
      },
      "execution_count": 12,
      "outputs": [
        {
          "output_type": "stream",
          "name": "stdout",
          "text": [
            "{1, 2, 3, 4, 6}\n"
          ]
        }
      ]
    },
    {
      "cell_type": "code",
      "source": [],
      "metadata": {
        "id": "hu76jSKkWJcm"
      },
      "execution_count": null,
      "outputs": []
    }
  ]
}